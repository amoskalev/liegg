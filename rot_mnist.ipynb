{
 "cells": [
  {
   "cell_type": "markdown",
   "metadata": {},
   "source": [
    "# LieGG for the rotation-MNIST minimal example "
   ]
  },
  {
   "cell_type": "code",
   "execution_count": 2,
   "metadata": {},
   "outputs": [],
   "source": [
    "import sys\n",
    "import numpy as np\n",
    "import torch\n",
    "import torch.nn as nn\n",
    "import random\n",
    "from copy import deepcopy\n",
    "import scipy.linalg as SL\n",
    "\n",
    "# symmetries\n",
    "from src.models import MLP\n",
    "from src.liegg import polarization_matrix_2, symmetry_metrics\n",
    "from src.datasets import RotoMNIST\n",
    "from src.utils import L2_normed_net, count_parameters\n",
    "\n",
    "import matplotlib.pyplot as plt\n",
    "%matplotlib inline"
   ]
  },
  {
   "cell_type": "markdown",
   "metadata": {},
   "source": [
    "### Train/Test utils:"
   ]
  },
  {
   "cell_type": "code",
   "execution_count": 3,
   "metadata": {},
   "outputs": [],
   "source": [
    "def test(model, data, device='cuda'):\n",
    "    \n",
    "    device = torch.device(device)\n",
    "    model.to(device)\n",
    "    model.eval()\n",
    "    \n",
    "    dataloader_test = torch.utils.data.DataLoader(data, batch_size=1, shuffle=False)\n",
    "    \n",
    "    acc = 0\n",
    "    for (inputs, labels) in dataloader_test:\n",
    "        \n",
    "        inputs_ravel = inputs.reshape(1, -1).float().to(device)\n",
    "        pred = model(inputs_ravel).argmax().item()\n",
    "        true = labels.item()\n",
    "        acc += int(pred == true)\n",
    "        \n",
    "    mean_acc = acc / len(dataloader_test)\n",
    "    return mean_acc\n",
    "\n",
    "def train_val(model, optimizer, data_train, data_val, n_epochs = 100, device='cuda', seed=2022):\n",
    "\n",
    "    random.seed(seed)\n",
    "    np.random.seed(seed)\n",
    "    torch.manual_seed(seed)\n",
    "    torch.cuda.manual_seed(seed)\n",
    "    torch.cuda.manual_seed_all(seed)\n",
    "    torch.backends.cudnn.deterministic = True\n",
    "    torch.backends.cudnn.benchmark = False\n",
    "    \n",
    "    device = torch.device(device)\n",
    "    model.to(device)\n",
    "\n",
    "    # data    \n",
    "    batch_size = 512\n",
    "    dataloader_train = torch.utils.data.DataLoader(data_train, batch_size=batch_size, shuffle=True, drop_last=False)\n",
    "    \n",
    "    # loss\n",
    "    criterion = nn.CrossEntropyLoss()\n",
    "\n",
    "    losses, val_accs = [], []\n",
    "    best_score, best_model = -1*float('inf'), None\n",
    "    for epoch in range(n_epochs):\n",
    "\n",
    "        running_loss = 0\n",
    "        model.train(True)\n",
    "        model.to(device)\n",
    "\n",
    "        for i, (inputs, labels) in enumerate(dataloader_train):\n",
    "            \n",
    "            optimizer.zero_grad()\n",
    "\n",
    "            inputs_ravel = inputs.reshape(inputs.shape[0], -1).float().to(device)\n",
    "            outputs = model(inputs_ravel)\n",
    "            loss = criterion(outputs, labels.long().to(device))\n",
    "            \n",
    "            loss.backward()\n",
    "            optimizer.step()\n",
    "\n",
    "            # logging\n",
    "            running_loss += loss\n",
    "            if i % 10 == 0:\n",
    "                losses += [loss.item()]\n",
    "                running_loss = 0.0\n",
    "                \n",
    "        # validate\n",
    "        if not data_val is None:\n",
    "                        \n",
    "            with torch.no_grad():\n",
    "                val_acc = test(model, data_val, device)\n",
    "                val_accs += [val_acc]\n",
    "                \n",
    "                if val_acc > best_score:\n",
    "                    best_score = val_acc\n",
    "                    best_model = deepcopy(model)\n",
    "\n",
    "            sys.stdout.write('({}) val_acc:{}, loss:{}\\r'.format(epoch+1, \n",
    "                                                               np.round(val_acc, 3), \n",
    "                                                  np.round(running_loss.item()/10, 3)))\n",
    "            \n",
    "    return best_model, losses, val_accs"
   ]
  },
  {
   "cell_type": "markdown",
   "metadata": {},
   "source": [
    "### Define data and model:"
   ]
  },
  {
   "cell_type": "code",
   "execution_count": 4,
   "metadata": {},
   "outputs": [],
   "source": [
    "data_train = RotoMNIST(data_path='/home/ferumchrome/data/rotMNIST/', split='train360', blur=1.5)\n",
    "data_val = RotoMNIST(data_path='/home/ferumchrome/data/rotMNIST/', split='val360', blur=1.5)"
   ]
  },
  {
   "cell_type": "code",
   "execution_count": 5,
   "metadata": {},
   "outputs": [],
   "source": [
    "net = MLP(in_dim=28*28, out_dim=10, num_nonlins=5, ch=128)\n",
    "opt = torch.optim.Adam(net.parameters(), lr=1e-3)"
   ]
  },
  {
   "cell_type": "markdown",
   "metadata": {},
   "source": [
    "_________________"
   ]
  },
  {
   "cell_type": "markdown",
   "metadata": {},
   "source": [
    "### LieGG:"
   ]
  },
  {
   "cell_type": "code",
   "execution_count": 6,
   "metadata": {},
   "outputs": [
    {
     "name": "stdout",
     "output_type": "stream",
     "text": [
      "(200) val_acc:0.844, loss:0.001\r"
     ]
    }
   ],
   "source": [
    "# train the model\n",
    "best_model, losses, val_accs = train_val(net, opt, data_train, data_val, n_epochs = 200)"
   ]
  },
  {
   "cell_type": "code",
   "execution_count": 7,
   "metadata": {},
   "outputs": [],
   "source": [
    "# compute the network polarization matrix\n",
    "data_X,_ = data_train.get_vectorized()\n",
    "data_X = torch.FloatTensor(data_X)\n",
    "\n",
    "norm_logits_net = L2_normed_net(best_model)\n",
    "E = polarization_matrix_2(norm_logits_net.cpu(), data_X)"
   ]
  },
  {
   "cell_type": "code",
   "execution_count": 8,
   "metadata": {},
   "outputs": [
    {
     "name": "stdout",
     "output_type": "stream",
     "text": [
      "Symmetry variance:  0.0008051968761719763\n",
      "min Symmetry bias:  0.021394861862063408\n"
     ]
    }
   ],
   "source": [
    "# compute symmetry variance and bias\n",
    "singular_values, symmetry_biases, generators = symmetry_metrics(E)\n",
    "\n",
    "print('Symmetry variance: ', singular_values[-1].item())\n",
    "print('min Symmetry bias: ', symmetry_biases[-1].item())"
   ]
  },
  {
   "cell_type": "code",
   "execution_count": 9,
   "metadata": {},
   "outputs": [
    {
     "data": {
      "image/png": "[encoded data removed]",
      "text/plain": [
       "<Figure size 792x216 with 2 Axes>"
      ]
     },
     "metadata": {
      "needs_background": "light"
     },
     "output_type": "display_data"
    }
   ],
   "source": [
    "fig, ax = plt.subplots(1, 2, figsize=(11, 3))\n",
    "\n",
    "ax[0].grid(axis='y')\n",
    "ax[0].plot(singular_values.data, color='black')\n",
    "ax[0].scatter(torch.arange(singular_values.shape[0]), singular_values.data, color='black', linewidths=.5)\n",
    "ax[0].set_yscale('log')\n",
    "ax[0].set_title('Polarization spectrum')\n",
    "ax[0].set_xlabel('i-th singular value')\n",
    "\n",
    "ax[1].grid(axis='y')\n",
    "ax[1].plot(symmetry_biases.data, color='black')\n",
    "ax[1].scatter(torch.arange(symmetry_biases.shape[0]), symmetry_biases.data, color='black', linewidths=.5)\n",
    "ax[1].set_title('O(5) symmetry bias')\n",
    "ax[1].set_xlabel('i-th singular vector')\n",
    "plt.show();"
   ]
  },
  {
   "cell_type": "markdown",
   "metadata": {},
   "source": [
    "### Visualize learned generator:"
   ]
  },
  {
   "cell_type": "code",
   "execution_count": 10,
   "metadata": {},
   "outputs": [],
   "source": [
    "def rotate_resample(img, G):\n",
    "    \n",
    "    # img: (1, 1, 28, 28)\n",
    "    # G: (2,2)\n",
    "    \n",
    "    # proc input image\n",
    "    img_in = img.cpu().data\n",
    "    \n",
    "    # wrap to affine transform\n",
    "    R = torch.zeros((2,3))\n",
    "    R[:2,:2] = G.cpu().data\n",
    "    \n",
    "    # sample grid\n",
    "    grid = nn.functional.affine_grid(R.unsqueeze(0), img_in.size())\n",
    "    \n",
    "    # resample img\n",
    "    img_out = nn.functional.grid_sample(img_in, grid)\n",
    "    \n",
    "    return img_out[0,0]"
   ]
  },
  {
   "cell_type": "code",
   "execution_count": 11,
   "metadata": {},
   "outputs": [],
   "source": [
    "# Lie algebra to Lie group\n",
    "H = generators[-1]\n",
    "\n",
    "rad = np.deg2rad(45)\n",
    "G = torch.matrix_exp(H*rad)"
   ]
  },
  {
   "cell_type": "code",
   "execution_count": 12,
   "metadata": {},
   "outputs": [
    {
     "name": "stderr",
     "output_type": "stream",
     "text": [
      "/home/ferumchrome/anaconda3/envs/qsym/lib/python3.6/site-packages/torch/nn/functional.py:3448: UserWarning: Default grid_sample and affine_grid behavior has changed to align_corners=False since 1.3.0. Please specify align_corners=True if the old behavior is desired. See the documentation of grid_sample for details.\n",
      "  warnings.warn(\"Default grid_sample and affine_grid behavior has changed \"\n",
      "/home/ferumchrome/anaconda3/envs/qsym/lib/python3.6/site-packages/torch/nn/functional.py:3385: UserWarning: Default grid_sample and affine_grid behavior has changed to align_corners=False since 1.3.0. Please specify align_corners=True if the old behavior is desired. See the documentation of grid_sample for details.\n",
      "  warnings.warn(\"Default grid_sample and affine_grid behavior has changed \"\n"
     ]
    }
   ],
   "source": [
    "# sample image from the dataset\n",
    "img = data_X[0]\n",
    "\n",
    "# rotate img with the learned generator\n",
    "img_r = rotate_resample(img.reshape(1,1,*data_X[0].shape), G);"
   ]
  },
  {
   "cell_type": "code",
   "execution_count": 13,
   "metadata": {},
   "outputs": [
    {
     "data": {
      "image/png": "[encoded data removed]",
      "text/plain": [
       "<Figure size 720x360 with 2 Axes>"
      ]
     },
     "metadata": {
      "needs_background": "light"
     },
     "output_type": "display_data"
    }
   ],
   "source": [
    "fig, ax = plt.subplots(1,2, figsize=(10,5))\n",
    "\n",
    "ax[0].imshow(img, cmap='gray', aspect='equal')\n",
    "ax[0].set_title('Image')\n",
    "ax[0].axis('off')\n",
    "\n",
    "ax[1].imshow(img_r, cmap='gray', aspect='equal')\n",
    "ax[1].set_title('g(Image)')\n",
    "ax[1].axis('off');"
   ]
  }
 ],
 "metadata": {
  "kernelspec": {
   "display_name": "qsym",
   "language": "python",
   "name": "qsym"
  },
  "language_info": {
   "codemirror_mode": {
    "name": "ipython",
    "version": 3
   },
   "file_extension": ".py",
   "mimetype": "text/x-python",
   "name": "python",
   "nbconvert_exporter": "python",
   "pygments_lexer": "ipython3",
   "version": "3.6.12"
  },
  "vscode": {
   "interpreter": {
    "hash": "f74947e456b937e85f11dc6fa24c6c226ceccba802c82c4a049a1d4123d19ee3"
   }
  }
 },
 "nbformat": 4,
 "nbformat_minor": 2
}
