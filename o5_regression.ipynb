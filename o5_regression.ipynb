{
 "cells": [
  {
   "cell_type": "markdown",
   "metadata": {},
   "source": [
    "# LieGG for invariant regression minimal example "
   ]
  },
  {
   "cell_type": "code",
   "execution_count": 2,
   "metadata": {},
   "outputs": [],
   "source": [
    "import sys\n",
    "import numpy as np\n",
    "import random\n",
    "import torch\n",
    "import torch.nn as nn\n",
    "from torch.utils.data import DataLoader\n",
    "\n",
    "from src.datasets import O5Synthetic\n",
    "from src.models import MLP, Standardize\n",
    "from src.liegg import polarization_matrix_1, symmetry_metrics\n",
    "from src.utils import split_data\n",
    "\n",
    "import matplotlib.pyplot as plt\n",
    "%matplotlib inline"
   ]
  },
  {
   "cell_type": "markdown",
   "metadata": {},
   "source": [
    "### Train utils:"
   ]
  },
  {
   "cell_type": "code",
   "execution_count": 3,
   "metadata": {},
   "outputs": [],
   "source": [
    "# takes a model and trains it on the O5 dataset\n",
    "# implemented for CPU\n",
    "\n",
    "def train(model, training_set_size, seed=2022):\n",
    "        \n",
    "    # fix seeds\n",
    "    random.seed(seed)\n",
    "    np.random.seed(seed)\n",
    "    torch.manual_seed(seed)\n",
    "    torch.cuda.manual_seed(seed)\n",
    "    torch.cuda.manual_seed_all(seed)\n",
    "    torch.backends.cudnn.deterministic = True\n",
    "    torch.backends.cudnn.benchmark = False\n",
    "    \n",
    "    # define dataset\n",
    "    base_dataset = O5Synthetic(training_set_size)\n",
    "    datasets = split_data(base_dataset, \n",
    "                          splits={'train':-1,'val':250,'test':250},\n",
    "                          seed=seed)\n",
    "    \n",
    "    # define model & opt\n",
    "    model = Standardize(model, base_dataset.stats)\n",
    "    optimizer = torch.optim.Adam(model.parameters(), lr = 3e-3, weight_decay=1e-4)\n",
    "    \n",
    "    # define opt routines\n",
    "    loss = torch.nn.MSELoss()\n",
    "\n",
    "    n_epochs = int(900000/training_set_size)\n",
    "    batch_size = 500\n",
    "    bs = batch_size\n",
    "    dataloaders = {k:DataLoader(v,batch_size=min(bs,len(v)),shuffle=(k=='train'),\n",
    "                num_workers=0,pin_memory=False) for k,v in datasets.items()}\n",
    "    dataloaders['Train'] = dataloaders['train']\n",
    "    \n",
    "    # validate before\n",
    "    model.eval()\n",
    "    for (x_test, y_test) in dataloaders['test']:\n",
    "        y_pred = model(x_test.float())\n",
    "        after_train = loss(y_pred, y_test.float()) \n",
    "        print('Test loss before Training' , after_train.item())\n",
    "        \n",
    "    # loop train\n",
    "    model.train(True)\n",
    "    for epoch in range(n_epochs):\n",
    "        running_loss  = 0\n",
    "        for i, (inputs, labels) in enumerate(dataloaders['Train'], 0):\n",
    "            \n",
    "            optimizer.zero_grad()\n",
    "            \n",
    "            outputs = model(inputs.float())\n",
    "            loss_ = loss(outputs, labels.float())\n",
    "            loss_.backward()\n",
    "            optimizer.step()\n",
    "\n",
    "            # log statistics\n",
    "            running_loss += loss_\n",
    "            if i % 10 == 0:\n",
    "                sys.stdout.write('[%d, %5d] loss: %.3f\\r' %\n",
    "                  (epoch + 1, i + 1, running_loss / 10))\n",
    "                running_loss = 0.0\n",
    "    \n",
    "    # validate after\n",
    "    model.eval()\n",
    "    for (x_test, y_test) in dataloaders['test']:\n",
    "        y_pred = model(x_test.float())\n",
    "        after_train = loss(y_pred, y_test.float()) \n",
    "        print('Test loss after Training' , after_train.item())\n",
    "        \n",
    "    return model, base_dataset.X, base_dataset.stats"
   ]
  },
  {
   "cell_type": "markdown",
   "metadata": {},
   "source": [
    "_________________________________"
   ]
  },
  {
   "cell_type": "markdown",
   "metadata": {},
   "source": [
    "### LieGG:"
   ]
  },
  {
   "cell_type": "code",
   "execution_count": 4,
   "metadata": {},
   "outputs": [
    {
     "name": "stdout",
     "output_type": "stream",
     "text": [
      "Test loss before Training 35.77134323120117\n",
      "Test loss after Training 0.22237414121627808\n"
     ]
    }
   ],
   "source": [
    "# define and train the model\n",
    "model = MLP(in_dim = 10, out_dim = 1, ch=32, num_nonlins=2)\n",
    "trained_model, data, data_stats = train(model, training_set_size=10000, seed=2022)"
   ]
  },
  {
   "cell_type": "code",
   "execution_count": 5,
   "metadata": {},
   "outputs": [],
   "source": [
    "# compute the network polarization matrix\n",
    "data_X = torch.FloatTensor(data)\n",
    "E = polarization_matrix_1(trained_model, data_X)"
   ]
  },
  {
   "cell_type": "code",
   "execution_count": 6,
   "metadata": {},
   "outputs": [
    {
     "name": "stdout",
     "output_type": "stream",
     "text": [
      "Symmetry variance:  0.0633259192109108\n",
      "min Symmetry bias:  0.009288029745221138\n"
     ]
    }
   ],
   "source": [
    "# compute symmetry variance and bias\n",
    "singular_values, symmetry_biases, _ = symmetry_metrics(E)\n",
    "\n",
    "print('Symmetry variance: ', singular_values[-1].item())\n",
    "print('min Symmetry bias: ', symmetry_biases[-1].item())"
   ]
  },
  {
   "cell_type": "code",
   "execution_count": 7,
   "metadata": {},
   "outputs": [
    {
     "data": {
      "image/png": "[encoded data removed]",
      "text/plain": [
       "<Figure size 792x216 with 2 Axes>"
      ]
     },
     "metadata": {
      "needs_background": "light"
     },
     "output_type": "display_data"
    }
   ],
   "source": [
    "fig, ax = plt.subplots(1, 2, figsize=(11, 3))\n",
    "\n",
    "ax[0].grid(axis='y')\n",
    "ax[0].plot(singular_values.data, color='black')\n",
    "ax[0].scatter(torch.arange(singular_values.shape[0]), singular_values.data, color='black', linewidths=.5)\n",
    "ax[0].set_yscale('log')\n",
    "ax[0].set_title('Polarization spectrum')\n",
    "ax[0].set_xlabel('i-th singular value')\n",
    "\n",
    "ax[1].grid(axis='y')\n",
    "ax[1].plot(symmetry_biases.data, color='black')\n",
    "ax[1].scatter(torch.arange(symmetry_biases.shape[0]), symmetry_biases.data, color='black', linewidths=.5)\n",
    "ax[1].set_title('O(5) symmetry bias')\n",
    "ax[1].set_xlabel('i-th singular vector')\n",
    "plt.show();"
   ]
  }
 ],
 "metadata": {
  "kernelspec": {
   "display_name": "qsym",
   "language": "python",
   "name": "qsym"
  },
  "language_info": {
   "codemirror_mode": {
    "name": "ipython",
    "version": 3
   },
   "file_extension": ".py",
   "mimetype": "text/x-python",
   "name": "python",
   "nbconvert_exporter": "python",
   "pygments_lexer": "ipython3",
   "version": "3.6.12"
  },
  "vscode": {
   "interpreter": {
    "hash": "f74947e456b937e85f11dc6fa24c6c226ceccba802c82c4a049a1d4123d19ee3"
   }
  }
 },
 "nbformat": 4,
 "nbformat_minor": 2
}
